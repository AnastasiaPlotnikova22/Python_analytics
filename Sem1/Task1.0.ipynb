{
 "cells": [
  {
   "cell_type": "markdown",
   "metadata": {},
   "source": [
    "## Условие 2: \n",
    "__На складе лежат разные фрукты в разном количестве.\n",
    "Нужно написать функцию, которая на вход принимает любое количество названий фруктов и их количество, а возвращает общее количество фруктов на складе.__"
   ]
  },
  {
   "cell_type": "code",
   "execution_count": 54,
   "metadata": {},
   "outputs": [
    {
     "name": "stdout",
     "output_type": "stream",
     "text": [
      "56\n"
     ]
    }
   ],
   "source": [
    "fruits = {'apple': 8, 'pear': 43, 'lemon': 5}\n",
    "sum_fruits = sum(fruits.values())\n",
    "print(sum_fruits)"
   ]
  },
  {
   "cell_type": "markdown",
   "metadata": {},
   "source": [
    "## Условие 3: \n",
    "__Дан список с затратами на рекламу. Но в данных есть ошибки, некоторые затраты имеют отрицательную величину. Удалите такие значения из списка и посчитайте суммарные затраты.__"
   ]
  },
  {
   "cell_type": "code",
   "execution_count": 61,
   "metadata": {},
   "outputs": [
    {
     "name": "stdout",
     "output_type": "stream",
     "text": [
      "Затраты на рекламу с положительными величинами [100, 125, 345, 655, 200]\n"
     ]
    },
    {
     "data": {
      "text/plain": [
       "'Суммарные затраты: 1425'"
      ]
     },
     "execution_count": 61,
     "metadata": {},
     "output_type": "execute_result"
    }
   ],
   "source": [
    "list_costs = [100, 125, -90, 345, 655, -1, 0, 200]\n",
    "position_costs = [i for i in list_costs if i > 0]\n",
    "print(f'Затраты на рекламу с положительными величинами {position_costs}')\n",
    "f'Суммарные затраты: {sum(position_costs)}'"
   ]
  },
  {
   "cell_type": "markdown",
   "metadata": {},
   "source": [
    "## Условие 4: \n",
    "__Даны два списка:__\n",
    "\n",
    "\n",
    "*Дата покупки*\n",
    "\n",
    "['2021-09-14', '2021-12-15', '2021-09-08', '2021-12-05', '2021-10-09', '2021-09-30', '2021-12-22', '2021-11-29', '2021-12-24', '2021-11-26', '2021-10-27', '2021-12-18', '2021-11-09', '2021-11-23', '2021-09-27', '2021-10-02', '2021-12-27', '2021-09-20', '2021-12-13', '2021-11-01', '2021-11-09', '2021-12-06', '2021-12-08', '2021-10-09', '2021-10-31', '2021-09-30', '2021-11-09', '2021-12-13', '2021-10-26', '2021-12-09']\n",
    "\n",
    "*Суммы покупки по датам*\n",
    "\n",
    "[1270, 8413, 9028, 3703, 5739, 4095, 295, 4944, 5723, 3701, 4471, 651, 7037, 4274, 6275, 4988, 6930, 2971, 6592, 2004, 2822, 519, 3406, 2732, 5015, 2008, 316, 6333, 5700, 2887]"
   ]
  },
  {
   "cell_type": "code",
   "execution_count": 66,
   "metadata": {},
   "outputs": [],
   "source": [
    "date_purchase = ['2021-09-14', '2021-12-15', '2021-09-08', '2021-12-05', '2021-10-09', '2021-09-30', '2021-12-22', '2021-11-29', '2021-12-24', '2021-11-26', '2021-10-27', '2021-12-18', '2021-11-09', '2021-11-23', '2021-09-27', '2021-10-02', '2021-12-27', '2021-09-20', '2021-12-13', '2021-11-01', '2021-11-09', '2021-12-06', '2021-12-08', '2021-10-09', '2021-10-31', '2021-09-30', '2021-11-09', '2021-12-13', '2021-10-26', '2021-12-09']\n",
    "purchase_amount = [1270, 8413, 9028, 3703, 5739, 4095, 295, 4944, 5723, 3701, 4471, 651, 7037, 4274, 6275, 4988, 6930, 2971, 6592, 2004, 2822, 519, 3406, 2732, 5015, 2008, 316, 6333, 5700, 2887]"
   ]
  },
  {
   "cell_type": "markdown",
   "metadata": {},
   "source": [
    "### 4.1 Найдите, какая выручка у компании в ноябре"
   ]
  },
  {
   "cell_type": "code",
   "execution_count": 69,
   "metadata": {},
   "outputs": [
    {
     "name": "stdout",
     "output_type": "stream",
     "text": [
      "['09', '12', '09', '12', '10', '09', '12', '11', '12', '11', '10', '12', '11', '11', '09', '10', '12', '09', '12', '11', '11', '12', '12', '10', '10', '09', '11', '12', '10', '12']\n"
     ]
    }
   ],
   "source": [
    "list_Month = [i.split('-')[1] for i in date_purchase]\n",
    "print(list_Month)"
   ]
  },
  {
   "cell_type": "code",
   "execution_count": 73,
   "metadata": {},
   "outputs": [
    {
     "data": {
      "text/plain": [
       "[('Месяц 11', 'выручка 4944'),\n",
       " ('Месяц 11', 'выручка 3701'),\n",
       " ('Месяц 11', 'выручка 7037'),\n",
       " ('Месяц 11', 'выручка 4274'),\n",
       " ('Месяц 11', 'выручка 2004'),\n",
       " ('Месяц 11', 'выручка 2822'),\n",
       " ('Месяц 11', 'выручка 316')]"
      ]
     },
     "execution_count": 73,
     "metadata": {},
     "output_type": "execute_result"
    }
   ],
   "source": [
    "revenue_November = [(f'Месяц {list_Month[i]}', f'выручка {purchase_amount[j]}')\n",
    "                          for i in range(len(list_Month))\n",
    "                          for j in range(len(purchase_amount))\n",
    "                          if i == j and list_Month[i] == '11']\n",
    "revenue_November"
   ]
  },
  {
   "cell_type": "code",
   "execution_count": 75,
   "metadata": {},
   "outputs": [
    {
     "name": "stdout",
     "output_type": "stream",
     "text": [
      "Месяц 11 выручка: 25098\n"
     ]
    }
   ],
   "source": [
    "print(revenue_November[0][0], f'выручка: {sum([amount for dates, amount in zip(date_purchase, purchase_amount) if dates[5:7] == \"11\"])}')"
   ]
  },
  {
   "cell_type": "markdown",
   "metadata": {},
   "source": [
    "### 4.2 Найдите выручку компании в зависимости от месяца"
   ]
  },
  {
   "cell_type": "code",
   "execution_count": 78,
   "metadata": {},
   "outputs": [],
   "source": [
    "def revenue_by_month(date_purchase: list, list_revenue: list) -> dict:\n",
    "    dict_Month = {}\n",
    "    for i in range(len(date_purchase)):\n",
    "        if date_purchase[i].split('-')[1] in dict_Month.keys():\n",
    "            dict_Month[date_purchase[i].split('-')[1]] += list_revenue[i]\n",
    "        else:\n",
    "            dict_Month[date_purchase[i].split('-')[1]] = list_revenue[i]\n",
    "    return dict_Month"
   ]
  },
  {
   "cell_type": "code",
   "execution_count": 77,
   "metadata": {},
   "outputs": [
    {
     "data": {
      "text/plain": [
       "{'09': 25647, '12': 45452, '10': 28645, '11': 25098}"
      ]
     },
     "execution_count": 77,
     "metadata": {},
     "output_type": "execute_result"
    }
   ],
   "source": [
    "revenue_by_month(list_dates, amount_by_date)"
   ]
  }
 ],
 "metadata": {
  "kernelspec": {
   "display_name": "Python 3",
   "language": "python",
   "name": "python3"
  },
  "language_info": {
   "name": "python",
   "version": "3.11.3"
  },
  "orig_nbformat": 4
 },
 "nbformat": 4,
 "nbformat_minor": 2
}
